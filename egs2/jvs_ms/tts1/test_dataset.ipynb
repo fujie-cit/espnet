{
 "cells": [
  {
   "cell_type": "code",
   "execution_count": 1,
   "metadata": {},
   "outputs": [
    {
     "name": "stderr",
     "output_type": "stream",
     "text": [
      "/home/fujie/work/2023/yamashita/fujie_tmp/espnet/tools/venv/lib/python3.10/site-packages/tqdm/auto.py:21: TqdmWarning: IProgress not found. Please update jupyter and ipywidgets. See https://ipywidgets.readthedocs.io/en/stable/user_install.html\n",
      "  from .autonotebook import tqdm as notebook_tqdm\n"
     ]
    }
   ],
   "source": [
    "from espnet2.train.dataset import ESPnetDataset"
   ]
  },
  {
   "cell_type": "code",
   "execution_count": 4,
   "metadata": {},
   "outputs": [],
   "source": [
    "ds = ESPnetDataset([(\n",
    "    \"./dump/22k/xvector/dev/xvector.scp\",\n",
    "    \"xvector\",\n",
    "    \"kaldi_ark\")])"
   ]
  },
  {
   "cell_type": "code",
   "execution_count": 20,
   "metadata": {},
   "outputs": [
    {
     "name": "stdout",
     "output_type": "stream",
     "text": [
      "[ 1.80 -0.46 -3.26 -3.99 -0.99 -2.38 -0.50  0.01  1.83 -0.27]\n"
     ]
    }
   ],
   "source": [
    "import numpy as np\n",
    "np.set_printoptions(precision=2)\n",
    "np.set_printoptions(suppress=True, floatmode='fixed')\n"
   ]
  },
  {
   "cell_type": "code",
   "execution_count": 23,
   "metadata": {},
   "outputs": [
    {
     "name": "stdout",
     "output_type": "stream",
     "text": [
      "jvs001_ONOMATOPEE300_222\n",
      "[ 1.80 -0.46 -3.26 -3.99 -0.99 -2.38 -0.50  0.01  1.83 -0.27]\n",
      "jvs001_TRAVEL1000_0009\n",
      "[ 3.34 -1.58 -1.70 -2.43 -0.64 -1.70 -1.57  0.51  1.96 -2.17]\n",
      "jvs001_TRAVEL1000_0164\n",
      "[ 2.22 -2.09 -2.70 -2.29  1.14 -2.18 -0.97  0.24  2.94 -0.89]\n",
      "jvs001_TRAVEL1000_0340\n",
      "[ 3.53 -0.50 -1.68 -4.00 -1.01 -0.36 -0.58 -0.04  1.38  0.77]\n",
      "jvs001_TRAVEL1000_0397\n",
      "[ 3.12 -0.35 -0.81 -0.92  0.14 -1.89 -1.33  2.67  2.88  1.11]\n",
      "jvs002_ONOMATOPEE300_036\n",
      "[-2.74  1.00  1.44 -1.30 -4.20  2.13 -0.46  0.88  0.95  3.01]\n",
      "jvs002_TRAVEL1000_0292\n",
      "[-0.63  0.63  1.83  0.66 -5.11  1.23 -0.64  2.10  1.49  2.92]\n",
      "jvs002_TRAVEL1000_0312\n",
      "[-1.32 -0.27  1.95 -0.40 -3.77  0.08 -0.46  2.00  2.11  3.00]\n",
      "jvs002_TRAVEL1000_0481\n",
      "[-2.69  2.54  1.39 -0.23 -2.62  2.48  0.64  1.67  3.70  2.09]\n",
      "jvs002_TRAVEL1000_0492\n",
      "[-0.48  0.61  2.05 -0.09 -2.64  0.20 -0.11  2.26  5.03  4.29]\n"
     ]
    }
   ],
   "source": [
    "for i in range(10):\n",
    "    print(ds[i][0])\n",
    "    print(ds[i][1]['xvector'][:10])"
   ]
  }
 ],
 "metadata": {
  "kernelspec": {
   "display_name": "Python 3",
   "language": "python",
   "name": "python3"
  },
  "language_info": {
   "codemirror_mode": {
    "name": "ipython",
    "version": 3
   },
   "file_extension": ".py",
   "mimetype": "text/x-python",
   "name": "python",
   "nbconvert_exporter": "python",
   "pygments_lexer": "ipython3",
   "version": "3.10.10"
  },
  "orig_nbformat": 4
 },
 "nbformat": 4,
 "nbformat_minor": 2
}
